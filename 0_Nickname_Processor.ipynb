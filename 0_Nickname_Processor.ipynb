{
 "cells": [
  {
   "cell_type": "markdown",
   "id": "87c117fc-d7a4-4b26-b140-5420970871b8",
   "metadata": {},
   "source": [
    "# Nickname Processor\n",
    "### Given a name-list with requested nicknames entered manually, returns a full name-list by filling in the remaining entries with user's first name"
   ]
  },
  {
   "cell_type": "markdown",
   "id": "50dce8b1-9e5b-43a1-b141-d80ebf1c116a",
   "metadata": {
    "tags": []
   },
   "source": [
    "## Instructions\n",
    "\n",
    "#### Preparation\n",
    "- Blackboard -> Full Grade Center -> Work Offline -> User Information Only\n",
    "- Move xls file to Documents/0BSData/yyyy_mm/ and rename to Nickname_PRE\n",
    "- Open as UTF-16, delete Last Access column, create Nickname_PRE column and enter all nicknames known (from Week 1 Discussion)\n",
    "- Save as Text CSV\n",
    "\n",
    "#### Process\n",
    "- Enter the course \"session\" in 'yyyy_mm' format and run this cell!"
   ]
  },
  {
   "cell_type": "code",
   "execution_count": 2,
   "id": "b9f4dc4a-e196-47dd-9c2f-ee5c734943d1",
   "metadata": {},
   "outputs": [],
   "source": [
    "session = '2022_06'\n",
    "\n",
    "#########################\n",
    "\n",
    "import pandas as pd\n",
    "\n",
    "df = pd.read_csv('..//..//..//Documents//0BSData/' +session+ '//Nicknames_PRE.xls', encoding='UTF-16', sep='\\t')\n",
    "df = df.fillna('')\n",
    "df['Full Name'] = df.loc[:,'First Name'] +' '+ df.loc[:,'Last Name']\n",
    "\n",
    "nicknames = []\n",
    "for i in range(len(df.iloc[:,0])):\n",
    "    nn_i = df.loc[i,'Nickname_PRE']\n",
    "    if nn_i == '':\n",
    "        nicknames.append(df.loc[i,'First Name'])\n",
    "    else:\n",
    "        nicknames.append(nn_i)\n",
    "df['Nickname'] = nicknames\n",
    "\n",
    "df.to_csv('..//..//..//Documents//0BSData/' +session+ '//Nicknames.csv', encoding='UTF-8', sep='\\t', index=False)"
   ]
  }
 ],
 "metadata": {
  "kernelspec": {
   "display_name": "Python 3 (ipykernel)",
   "language": "python",
   "name": "python3"
  },
  "language_info": {
   "codemirror_mode": {
    "name": "ipython",
    "version": 3
   },
   "file_extension": ".py",
   "mimetype": "text/x-python",
   "name": "python",
   "nbconvert_exporter": "python",
   "pygments_lexer": "ipython3",
   "version": "3.10.1"
  }
 },
 "nbformat": 4,
 "nbformat_minor": 5
}
